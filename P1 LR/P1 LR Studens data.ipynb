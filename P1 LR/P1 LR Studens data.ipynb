{
 "cells": [
  {
   "cell_type": "markdown",
   "id": "e3459c8f",
   "metadata": {},
   "source": [
    "## Task #1: Simple linear Regression with Sickit-learn - TSF GRIP\n",
    "### Author: J.Zakaria\n",
    "In this Task we'll perform a Supervised Machine Learning model to predict the Students Grades based on their Hours of Study per Day.\n",
    "\n",
    "### Assessing the data:\n",
    "In this project we'll see how the hours of study impact the scores of the students, first let's import the data [with](https://www.delftstack.com/howto/python/python-download-csv-from-url/)."
   ]
  },
  {
   "cell_type": "code",
   "execution_count": 1,
   "id": "cba64d04",
   "metadata": {},
   "outputs": [
    {
     "name": "stdout",
     "output_type": "stream",
     "text": [
      "(25, 2)\n"
     ]
    },
    {
     "data": {
      "text/html": [
       "<div>\n",
       "<style scoped>\n",
       "    .dataframe tbody tr th:only-of-type {\n",
       "        vertical-align: middle;\n",
       "    }\n",
       "\n",
       "    .dataframe tbody tr th {\n",
       "        vertical-align: top;\n",
       "    }\n",
       "\n",
       "    .dataframe thead th {\n",
       "        text-align: right;\n",
       "    }\n",
       "</style>\n",
       "<table border=\"1\" class=\"dataframe\">\n",
       "  <thead>\n",
       "    <tr style=\"text-align: right;\">\n",
       "      <th></th>\n",
       "      <th>Hours</th>\n",
       "      <th>Scores</th>\n",
       "    </tr>\n",
       "  </thead>\n",
       "  <tbody>\n",
       "    <tr>\n",
       "      <th>0</th>\n",
       "      <td>2.5</td>\n",
       "      <td>21</td>\n",
       "    </tr>\n",
       "    <tr>\n",
       "      <th>1</th>\n",
       "      <td>5.1</td>\n",
       "      <td>47</td>\n",
       "    </tr>\n",
       "    <tr>\n",
       "      <th>2</th>\n",
       "      <td>3.2</td>\n",
       "      <td>27</td>\n",
       "    </tr>\n",
       "    <tr>\n",
       "      <th>3</th>\n",
       "      <td>8.5</td>\n",
       "      <td>75</td>\n",
       "    </tr>\n",
       "    <tr>\n",
       "      <th>4</th>\n",
       "      <td>3.5</td>\n",
       "      <td>30</td>\n",
       "    </tr>\n",
       "    <tr>\n",
       "      <th>5</th>\n",
       "      <td>1.5</td>\n",
       "      <td>20</td>\n",
       "    </tr>\n",
       "    <tr>\n",
       "      <th>6</th>\n",
       "      <td>9.2</td>\n",
       "      <td>88</td>\n",
       "    </tr>\n",
       "    <tr>\n",
       "      <th>7</th>\n",
       "      <td>5.5</td>\n",
       "      <td>60</td>\n",
       "    </tr>\n",
       "  </tbody>\n",
       "</table>\n",
       "</div>"
      ],
      "text/plain": [
       "   Hours  Scores\n",
       "0    2.5      21\n",
       "1    5.1      47\n",
       "2    3.2      27\n",
       "3    8.5      75\n",
       "4    3.5      30\n",
       "5    1.5      20\n",
       "6    9.2      88\n",
       "7    5.5      60"
      ]
     },
     "execution_count": 1,
     "metadata": {},
     "output_type": "execute_result"
    }
   ],
   "source": [
    "import pandas as pd\n",
    "\n",
    "# Importing the data\n",
    "df = pd.read_csv('https://raw.githubusercontent.com/AdiPersonalWorks/Random/master/student_scores%20-%20student_scores.csv')\n",
    "print(df.shape) ; df.head(8)"
   ]
  },
  {
   "cell_type": "markdown",
   "id": "2469f2f0",
   "metadata": {},
   "source": [
    "Let's visualize our dataset on a scatter plot using seaborn."
   ]
  },
  {
   "cell_type": "code",
   "execution_count": 2,
   "id": "97d72879",
   "metadata": {},
   "outputs": [
    {
     "name": "stderr",
     "output_type": "stream",
     "text": [
      "/home/user/miniconda3/lib/python3.9/site-packages/scipy/__init__.py:146: UserWarning: A NumPy version >=1.16.5 and <1.23.0 is required for this version of SciPy (detected version 1.23.1\n",
      "  warnings.warn(f\"A NumPy version >={np_minversion} and <{np_maxversion}\"\n"
     ]
    },
    {
     "data": {
      "text/plain": [
       "Text(0.5, 1.0, 'Hours vs Percentage')"
      ]
     },
     "execution_count": 2,
     "metadata": {},
     "output_type": "execute_result"
    },
    {
     "data": {
      "image/png": "[encoded data removed]",
      "text/plain": [
       "<Figure size 720x432 with 1 Axes>"
      ]
     },
     "metadata": {},
     "output_type": "display_data"
    }
   ],
   "source": [
    "import seaborn as sns\n",
    "import matplotlib.pyplot as plt\n",
    "sns.set_theme()\n",
    "\n",
    "plt.figure(figsize=(10, 6)) #dpi=80\n",
    "\n",
    "sns.set_theme(color_codes=True)\n",
    "ax = sns.regplot(x=\"Hours\", y=\"Scores\", data=df)\n",
    "plt.title('Hours vs Percentage', fontsize=13, fontweight=\"bold\")  "
   ]
  },
  {
   "cell_type": "markdown",
   "id": "465e1c23",
   "metadata": {},
   "source": [
    "##### As we see we have a positive linear correlation between Hours and Scores. Let's run a linear [regression](https://www.geeksforgeeks.org/python-linear-regression-using-sklearn/)."
   ]
  },
  {
   "cell_type": "markdown",
   "id": "395cc707",
   "metadata": {},
   "source": [
    "### Preparing the model:\n",
    "In this part we'll split the data into two parts train and test, then we'll train the model."
   ]
  },
  {
   "cell_type": "code",
   "execution_count": 3,
   "id": "f95b8ff2",
   "metadata": {},
   "outputs": [],
   "source": [
    "import numpy as np\n",
    "from sklearn.linear_model import LinearRegression\n",
    "from sklearn.model_selection import train_test_split"
   ]
  },
  {
   "cell_type": "code",
   "execution_count": 4,
   "id": "81cb4656",
   "metadata": {},
   "outputs": [
    {
     "name": "stdout",
     "output_type": "stream",
     "text": [
      "Regession Score is: 0.9127268929163728\n"
     ]
    }
   ],
   "source": [
    "# choosing the X and y values\n",
    "X = np.array(df['Hours']).reshape(-1, 1)\n",
    "y = np.array(df['Scores']).reshape(-1, 1)\n",
    "\n",
    "# Splitting the data into training and testing data\n",
    "X_train, X_test, y_train, y_test = train_test_split(X, y, test_size = 0.25)\n",
    "\n",
    "# Training the model\n",
    "reg = LinearRegression()\n",
    "reg.fit(X_train, y_train)\n",
    "\n",
    "print(\"Regession Score is: \" + str(reg.score(X_test, y_test)))"
   ]
  },
  {
   "cell_type": "markdown",
   "id": "43c5337a",
   "metadata": {},
   "source": [
    "It looks pretty high, let's check the other coefficients"
   ]
  },
  {
   "cell_type": "code",
   "execution_count": 5,
   "id": "25bcb78a",
   "metadata": {},
   "outputs": [
    {
     "name": "stdout",
     "output_type": "stream",
     "text": [
      "intercept: [1.85391914]\n",
      "slope: [[9.89163485]]\n"
     ]
    }
   ],
   "source": [
    "print(f\"intercept: {reg.intercept_}\")\n",
    "print(f\"slope: {reg.coef_}\")"
   ]
  },
  {
   "cell_type": "markdown",
   "id": "02b4a2f9",
   "metadata": {},
   "source": [
    "### predict and validate the model:\n",
    "In this part we'll use the testing data and we'll evaluate the model."
   ]
  },
  {
   "cell_type": "code",
   "execution_count": 12,
   "id": "4ea53ec4",
   "metadata": {
    "scrolled": false
   },
   "outputs": [
    {
     "data": {
      "image/png": "[encoded data removed]",
      "text/plain": [
       "<Figure size 720x360 with 1 Axes>"
      ]
     },
     "metadata": {},
     "output_type": "display_data"
    }
   ],
   "source": [
    "plt.figure(figsize = [10, 5])\n",
    "\n",
    "# predicting the unseen data\n",
    "y_pred = reg.predict(X_test)\n",
    "\n",
    "# plotting the predictions \n",
    "plt.scatter(X_test, y_test, color ='b')\n",
    "plt.plot(X_test, y_pred, color ='lightgreen')\n",
    "plt.xlabel(\"Hours\")\n",
    "plt.ylabel(\"Scores\")\n",
    "plt.title(\"Predicted line\", fontsize=13, fontweight=\"bold\")\n",
    "\n",
    "plt.show()"
   ]
  },
  {
   "cell_type": "markdown",
   "id": "30a9acc5",
   "metadata": {},
   "source": [
    "Since we plotted our predictions they looks good enough, but let's evaluate the errors."
   ]
  },
  {
   "cell_type": "code",
   "execution_count": 7,
   "id": "f7ba5c31",
   "metadata": {},
   "outputs": [
    {
     "data": {
      "text/html": [
       "<div>\n",
       "<style scoped>\n",
       "    .dataframe tbody tr th:only-of-type {\n",
       "        vertical-align: middle;\n",
       "    }\n",
       "\n",
       "    .dataframe tbody tr th {\n",
       "        vertical-align: top;\n",
       "    }\n",
       "\n",
       "    .dataframe thead th {\n",
       "        text-align: right;\n",
       "    }\n",
       "</style>\n",
       "<table border=\"1\" class=\"dataframe\">\n",
       "  <thead>\n",
       "    <tr style=\"text-align: right;\">\n",
       "      <th></th>\n",
       "      <th>Actual</th>\n",
       "      <th>Predicted</th>\n",
       "    </tr>\n",
       "  </thead>\n",
       "  <tbody>\n",
       "    <tr>\n",
       "      <th>0</th>\n",
       "      <td>[62]</td>\n",
       "      <td>[60.214564775746204]</td>\n",
       "    </tr>\n",
       "    <tr>\n",
       "      <th>1</th>\n",
       "      <td>[24]</td>\n",
       "      <td>[20.648025361105514]</td>\n",
       "    </tr>\n",
       "    <tr>\n",
       "      <th>2</th>\n",
       "      <td>[21]</td>\n",
       "      <td>[26.583006273301617]</td>\n",
       "    </tr>\n",
       "    <tr>\n",
       "      <th>3</th>\n",
       "      <td>[35]</td>\n",
       "      <td>[39.44213158305984]</td>\n",
       "    </tr>\n",
       "    <tr>\n",
       "      <th>4</th>\n",
       "      <td>[42]</td>\n",
       "      <td>[34.49631415622975]</td>\n",
       "    </tr>\n",
       "    <tr>\n",
       "      <th>5</th>\n",
       "      <td>[69]</td>\n",
       "      <td>[75.05201705623647]</td>\n",
       "    </tr>\n",
       "    <tr>\n",
       "      <th>6</th>\n",
       "      <td>[54]</td>\n",
       "      <td>[49.33376643672001]</td>\n",
       "    </tr>\n",
       "  </tbody>\n",
       "</table>\n",
       "</div>"
      ],
      "text/plain": [
       "  Actual             Predicted\n",
       "0   [62]  [60.214564775746204]\n",
       "1   [24]  [20.648025361105514]\n",
       "2   [21]  [26.583006273301617]\n",
       "3   [35]   [39.44213158305984]\n",
       "4   [42]   [34.49631415622975]\n",
       "5   [69]   [75.05201705623647]\n",
       "6   [54]   [49.33376643672001]"
      ]
     },
     "execution_count": 7,
     "metadata": {},
     "output_type": "execute_result"
    }
   ],
   "source": [
    "com = pd.DataFrame({'Actual': list(y_test), 'Predicted': list(y_pred)})\n",
    "com"
   ]
  },
  {
   "cell_type": "code",
   "execution_count": 8,
   "id": "c94ab3e5",
   "metadata": {},
   "outputs": [
    {
     "name": "stdout",
     "output_type": "stream",
     "text": [
      "MAE: 4.769212026113777\n",
      "MSE: 25.718850332399533\n",
      "RMSE: 5.071375585814911\n"
     ]
    }
   ],
   "source": [
    "from sklearn.metrics import mean_absolute_error,mean_squared_error\n",
    "\n",
    "mae = mean_absolute_error(y_true=y_test,y_pred=y_pred)\n",
    "\n",
    "#squared True returns MSE value, False returns RMSE value.\n",
    "mse = mean_squared_error(y_true=y_test,y_pred=y_pred) #default=True\n",
    "rmse = mean_squared_error(y_true=y_test,y_pred=y_pred,squared=False)\n",
    "\n",
    "print(\"MAE:\",mae)\n",
    "print(\"MSE:\",mse)\n",
    "print(\"RMSE:\",rmse)"
   ]
  },
  {
   "cell_type": "code",
   "execution_count": 9,
   "id": "de452584",
   "metadata": {},
   "outputs": [
    {
     "name": "stdout",
     "output_type": "stream",
     "text": [
      "Mean Absolute Error: 4.769212026113777\n"
     ]
    }
   ],
   "source": [
    "# Or:\n",
    "from sklearn import metrics  \n",
    "print('Mean Absolute Error:', metrics.mean_absolute_error(y_test, y_pred)) "
   ]
  },
  {
   "cell_type": "markdown",
   "id": "25f6977d",
   "metadata": {},
   "source": [
    "### What will be the score of the students if they study 9.25 h/d?\n",
    "Since we evaluated the model and we got a good score, it's time to apply our model to the purpose of this study."
   ]
  },
  {
   "cell_type": "code",
   "execution_count": 10,
   "id": "395b5ca6",
   "metadata": {},
   "outputs": [
    {
     "data": {
      "image/png": "[encoded data removed]",
      "text/plain": [
       "<Figure size 648x360 with 1 Axes>"
      ]
     },
     "metadata": {},
     "output_type": "display_data"
    }
   ],
   "source": [
    "plt.figure(figsize = [9, 5])\n",
    "\n",
    "p = np.arange(8, 10, 0.25).reshape(-1, 1)\n",
    "\n",
    "y_p =  reg.predict(p)\n",
    "\n",
    "plt.scatter(p, y_p, color ='b')\n",
    "plt.plot(p, y_p, color ='lightgreen')\n",
    "plt.xlabel(\"Hours\")\n",
    "plt.ylabel(\"Scores\")\n",
    "plt.ylabel(\"Predictions\")\n",
    "\n",
    "\n",
    "plt.show()"
   ]
  },
  {
   "cell_type": "code",
   "execution_count": 11,
   "id": "3f4d5562",
   "metadata": {},
   "outputs": [
    {
     "name": "stdout",
     "output_type": "stream",
     "text": [
      "If the students study 9.25 h/d they'll score: [[93.35154154]]\n"
     ]
    }
   ],
   "source": [
    "l = np.array(9.25).reshape(-1, 1)\n",
    "print(f\"If the students study 9.25 h/d they'll score: {reg.predict(l)}\")"
   ]
  }
 ],
 "metadata": {
  "kernelspec": {
   "display_name": "Python 3 (ipykernel)",
   "language": "python",
   "name": "python3"
  },
  "language_info": {
   "codemirror_mode": {
    "name": "ipython",
    "version": 3
   },
   "file_extension": ".py",
   "mimetype": "text/x-python",
   "name": "python",
   "nbconvert_exporter": "python",
   "pygments_lexer": "ipython3",
   "version": "3.9.12"
  }
 },
 "nbformat": 4,
 "nbformat_minor": 5
}
